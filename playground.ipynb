{
 "cells": [
  {
   "cell_type": "code",
   "execution_count": 1,
   "metadata": {},
   "outputs": [
    {
     "name": "stderr",
     "output_type": "stream",
     "text": [
      "/Users/tony/miniconda3-arm/lib/python3.9/site-packages/tqdm/auto.py:22: TqdmWarning: IProgress not found. Please update jupyter and ipywidgets. See https://ipywidgets.readthedocs.io/en/stable/user_install.html\n",
      "  from .autonotebook import tqdm as notebook_tqdm\n"
     ]
    }
   ],
   "source": [
    "import torch\n"
   ]
  },
  {
   "cell_type": "code",
   "execution_count": 2,
   "metadata": {},
   "outputs": [],
   "source": [
    "path = 'tb_logs_new/w15ne15ng15na15nlr0.1b64/version_0/checkpoints/epoch=34-step=27370.ckpt'"
   ]
  },
  {
   "cell_type": "code",
   "execution_count": 4,
   "metadata": {},
   "outputs": [],
   "source": [
    "stdt = torch.load(path, map_location=torch.device('cpu'))"
   ]
  },
  {
   "cell_type": "code",
   "execution_count": 7,
   "metadata": {},
   "outputs": [
    {
     "data": {
      "text/plain": [
       "[odict_keys(['backbone.conv1.weight', 'backbone.layer1.0.bn1.weight', 'backbone.layer1.0.bn1.bias', 'backbone.layer1.0.bn1.running_mean', 'backbone.layer1.0.bn1.running_var', 'backbone.layer1.0.bn1.num_batches_tracked', 'backbone.layer1.0.probe.module.weight', 'backbone.layer1.0.bn2.weight', 'backbone.layer1.0.bn2.bias', 'backbone.layer1.0.bn2.running_mean', 'backbone.layer1.0.bn2.running_var', 'backbone.layer1.0.bn2.num_batches_tracked', 'backbone.layer1.0.conv2.weight', 'backbone.layer1.1.bn1.weight', 'backbone.layer1.1.bn1.bias', 'backbone.layer1.1.bn1.running_mean', 'backbone.layer1.1.bn1.running_var', 'backbone.layer1.1.bn1.num_batches_tracked', 'backbone.layer1.1.probe.module.weight', 'backbone.layer1.1.bn2.weight', 'backbone.layer1.1.bn2.bias', 'backbone.layer1.1.bn2.running_mean', 'backbone.layer1.1.bn2.running_var', 'backbone.layer1.1.bn2.num_batches_tracked', 'backbone.layer1.1.conv2.weight', 'backbone.layer1.2.bn1.weight', 'backbone.layer1.2.bn1.bias', 'backbone.layer1.2.bn1.running_mean', 'backbone.layer1.2.bn1.running_var', 'backbone.layer1.2.bn1.num_batches_tracked', 'backbone.layer1.2.probe.module.weight', 'backbone.layer1.2.bn2.weight', 'backbone.layer1.2.bn2.bias', 'backbone.layer1.2.bn2.running_mean', 'backbone.layer1.2.bn2.running_var', 'backbone.layer1.2.bn2.num_batches_tracked', 'backbone.layer1.2.conv2.weight', 'backbone.layer2.0.bn1.weight', 'backbone.layer2.0.bn1.bias', 'backbone.layer2.0.bn1.running_mean', 'backbone.layer2.0.bn1.running_var', 'backbone.layer2.0.bn1.num_batches_tracked', 'backbone.layer2.0.probe.module.weight', 'backbone.layer2.0.bn2.weight', 'backbone.layer2.0.bn2.bias', 'backbone.layer2.0.bn2.running_mean', 'backbone.layer2.0.bn2.running_var', 'backbone.layer2.0.bn2.num_batches_tracked', 'backbone.layer2.0.conv2.weight', 'backbone.layer2.0.downsample.0.weight', 'backbone.layer2.1.bn1.weight', 'backbone.layer2.1.bn1.bias', 'backbone.layer2.1.bn1.running_mean', 'backbone.layer2.1.bn1.running_var', 'backbone.layer2.1.bn1.num_batches_tracked', 'backbone.layer2.1.probe.module.weight', 'backbone.layer2.1.bn2.weight', 'backbone.layer2.1.bn2.bias', 'backbone.layer2.1.bn2.running_mean', 'backbone.layer2.1.bn2.running_var', 'backbone.layer2.1.bn2.num_batches_tracked', 'backbone.layer2.1.conv2.weight', 'backbone.layer2.2.bn1.weight', 'backbone.layer2.2.bn1.bias', 'backbone.layer2.2.bn1.running_mean', 'backbone.layer2.2.bn1.running_var', 'backbone.layer2.2.bn1.num_batches_tracked', 'backbone.layer2.2.probe.module.weight', 'backbone.layer2.2.bn2.weight', 'backbone.layer2.2.bn2.bias', 'backbone.layer2.2.bn2.running_mean', 'backbone.layer2.2.bn2.running_var', 'backbone.layer2.2.bn2.num_batches_tracked', 'backbone.layer2.2.conv2.weight', 'backbone.layer3.0.bn1.weight', 'backbone.layer3.0.bn1.bias', 'backbone.layer3.0.bn1.running_mean', 'backbone.layer3.0.bn1.running_var', 'backbone.layer3.0.bn1.num_batches_tracked', 'backbone.layer3.0.probe.module.weight', 'backbone.layer3.0.bn2.weight', 'backbone.layer3.0.bn2.bias', 'backbone.layer3.0.bn2.running_mean', 'backbone.layer3.0.bn2.running_var', 'backbone.layer3.0.bn2.num_batches_tracked', 'backbone.layer3.0.conv2.weight', 'backbone.layer3.0.downsample.0.weight', 'backbone.layer3.1.bn1.weight', 'backbone.layer3.1.bn1.bias', 'backbone.layer3.1.bn1.running_mean', 'backbone.layer3.1.bn1.running_var', 'backbone.layer3.1.bn1.num_batches_tracked', 'backbone.layer3.1.probe.module.weight', 'backbone.layer3.1.bn2.weight', 'backbone.layer3.1.bn2.bias', 'backbone.layer3.1.bn2.running_mean', 'backbone.layer3.1.bn2.running_var', 'backbone.layer3.1.bn2.num_batches_tracked', 'backbone.layer3.1.conv2.weight', 'backbone.layer3.2.bn1.weight', 'backbone.layer3.2.bn1.bias', 'backbone.layer3.2.bn1.running_mean', 'backbone.layer3.2.bn1.running_var', 'backbone.layer3.2.bn1.num_batches_tracked', 'backbone.layer3.2.probe.module.weight', 'backbone.layer3.2.bn2.weight', 'backbone.layer3.2.bn2.bias', 'backbone.layer3.2.bn2.running_mean', 'backbone.layer3.2.bn2.running_var', 'backbone.layer3.2.bn2.num_batches_tracked', 'backbone.layer3.2.conv2.weight', 'backbone.bn.weight', 'backbone.bn.bias', 'backbone.bn.running_mean', 'backbone.bn.running_var', 'backbone.bn.num_batches_tracked', 'backbone.fc.weight', 'backbone.fc.bias', 'reference_model.conv1.weight', 'reference_model.layer1.0.bn1.weight', 'reference_model.layer1.0.bn1.bias', 'reference_model.layer1.0.bn1.running_mean', 'reference_model.layer1.0.bn1.running_var', 'reference_model.layer1.0.bn1.num_batches_tracked', 'reference_model.layer1.0.probe.module.weight', 'reference_model.layer1.0.bn2.weight', 'reference_model.layer1.0.bn2.bias', 'reference_model.layer1.0.bn2.running_mean', 'reference_model.layer1.0.bn2.running_var', 'reference_model.layer1.0.bn2.num_batches_tracked', 'reference_model.layer1.0.conv2.weight', 'reference_model.layer1.1.bn1.weight', 'reference_model.layer1.1.bn1.bias', 'reference_model.layer1.1.bn1.running_mean', 'reference_model.layer1.1.bn1.running_var', 'reference_model.layer1.1.bn1.num_batches_tracked', 'reference_model.layer1.1.probe.module.weight', 'reference_model.layer1.1.bn2.weight', 'reference_model.layer1.1.bn2.bias', 'reference_model.layer1.1.bn2.running_mean', 'reference_model.layer1.1.bn2.running_var', 'reference_model.layer1.1.bn2.num_batches_tracked', 'reference_model.layer1.1.conv2.weight', 'reference_model.layer1.2.bn1.weight', 'reference_model.layer1.2.bn1.bias', 'reference_model.layer1.2.bn1.running_mean', 'reference_model.layer1.2.bn1.running_var', 'reference_model.layer1.2.bn1.num_batches_tracked', 'reference_model.layer1.2.probe.module.weight', 'reference_model.layer1.2.bn2.weight', 'reference_model.layer1.2.bn2.bias', 'reference_model.layer1.2.bn2.running_mean', 'reference_model.layer1.2.bn2.running_var', 'reference_model.layer1.2.bn2.num_batches_tracked', 'reference_model.layer1.2.conv2.weight', 'reference_model.layer2.0.bn1.weight', 'reference_model.layer2.0.bn1.bias', 'reference_model.layer2.0.bn1.running_mean', 'reference_model.layer2.0.bn1.running_var', 'reference_model.layer2.0.bn1.num_batches_tracked', 'reference_model.layer2.0.probe.module.weight', 'reference_model.layer2.0.bn2.weight', 'reference_model.layer2.0.bn2.bias', 'reference_model.layer2.0.bn2.running_mean', 'reference_model.layer2.0.bn2.running_var', 'reference_model.layer2.0.bn2.num_batches_tracked', 'reference_model.layer2.0.conv2.weight', 'reference_model.layer2.0.downsample.0.weight', 'reference_model.layer2.1.bn1.weight', 'reference_model.layer2.1.bn1.bias', 'reference_model.layer2.1.bn1.running_mean', 'reference_model.layer2.1.bn1.running_var', 'reference_model.layer2.1.bn1.num_batches_tracked', 'reference_model.layer2.1.probe.module.weight', 'reference_model.layer2.1.bn2.weight', 'reference_model.layer2.1.bn2.bias', 'reference_model.layer2.1.bn2.running_mean', 'reference_model.layer2.1.bn2.running_var', 'reference_model.layer2.1.bn2.num_batches_tracked', 'reference_model.layer2.1.conv2.weight', 'reference_model.layer2.2.bn1.weight', 'reference_model.layer2.2.bn1.bias', 'reference_model.layer2.2.bn1.running_mean', 'reference_model.layer2.2.bn1.running_var', 'reference_model.layer2.2.bn1.num_batches_tracked', 'reference_model.layer2.2.probe.module.weight', 'reference_model.layer2.2.bn2.weight', 'reference_model.layer2.2.bn2.bias', 'reference_model.layer2.2.bn2.running_mean', 'reference_model.layer2.2.bn2.running_var', 'reference_model.layer2.2.bn2.num_batches_tracked', 'reference_model.layer2.2.conv2.weight', 'reference_model.layer3.0.bn1.weight', 'reference_model.layer3.0.bn1.bias', 'reference_model.layer3.0.bn1.running_mean', 'reference_model.layer3.0.bn1.running_var', 'reference_model.layer3.0.bn1.num_batches_tracked', 'reference_model.layer3.0.probe.module.weight', 'reference_model.layer3.0.bn2.weight', 'reference_model.layer3.0.bn2.bias', 'reference_model.layer3.0.bn2.running_mean', 'reference_model.layer3.0.bn2.running_var', 'reference_model.layer3.0.bn2.num_batches_tracked', 'reference_model.layer3.0.conv2.weight', 'reference_model.layer3.0.downsample.0.weight', 'reference_model.layer3.1.bn1.weight', 'reference_model.layer3.1.bn1.bias', 'reference_model.layer3.1.bn1.running_mean', 'reference_model.layer3.1.bn1.running_var', 'reference_model.layer3.1.bn1.num_batches_tracked', 'reference_model.layer3.1.probe.module.weight', 'reference_model.layer3.1.bn2.weight', 'reference_model.layer3.1.bn2.bias', 'reference_model.layer3.1.bn2.running_mean', 'reference_model.layer3.1.bn2.running_var', 'reference_model.layer3.1.bn2.num_batches_tracked', 'reference_model.layer3.1.conv2.weight', 'reference_model.layer3.2.bn1.weight', 'reference_model.layer3.2.bn1.bias', 'reference_model.layer3.2.bn1.running_mean', 'reference_model.layer3.2.bn1.running_var', 'reference_model.layer3.2.bn1.num_batches_tracked', 'reference_model.layer3.2.probe.module.weight', 'reference_model.layer3.2.bn2.weight', 'reference_model.layer3.2.bn2.bias', 'reference_model.layer3.2.bn2.running_mean', 'reference_model.layer3.2.bn2.running_var', 'reference_model.layer3.2.bn2.num_batches_tracked', 'reference_model.layer3.2.conv2.weight', 'reference_model.bn.weight', 'reference_model.bn.bias', 'reference_model.bn.running_mean', 'reference_model.bn.running_var', 'reference_model.bn.num_batches_tracked', 'reference_model.fc.weight', 'reference_model.fc.bias'])]"
      ]
     },
     "execution_count": 7,
     "metadata": {},
     "output_type": "execute_result"
    }
   ],
   "source": [
    "[stdt['state_dict'].keys()]"
   ]
  },
  {
   "cell_type": "code",
   "execution_count": 8,
   "metadata": {},
   "outputs": [
    {
     "data": {
      "text/plain": [
       "8"
      ]
     },
     "execution_count": 8,
     "metadata": {},
     "output_type": "execute_result"
    }
   ],
   "source": [
    "'backbone.conv1.weight'.find('.')"
   ]
  },
  {
   "cell_type": "code",
   "execution_count": 9,
   "metadata": {},
   "outputs": [
    {
     "data": {
      "text/plain": [
       "'.conv1.weight'"
      ]
     },
     "execution_count": 9,
     "metadata": {},
     "output_type": "execute_result"
    }
   ],
   "source": [
    "'backbone.conv1.weight'[8:]"
   ]
  },
  {
   "cell_type": "code",
   "execution_count": 14,
   "metadata": {},
   "outputs": [
    {
     "name": "stdout",
     "output_type": "stream",
     "text": [
      "Files already downloaded and verified\n",
      "Files already downloaded and verified\n"
     ]
    }
   ],
   "source": [
    "from sr_experiments.data import get_loaders\n",
    "dl = get_loaders(128)[\"train\"]"
   ]
  },
  {
   "cell_type": "code",
   "execution_count": 19,
   "metadata": {},
   "outputs": [
    {
     "name": "stderr",
     "output_type": "stream",
     "text": [
      "/Users/tony/miniconda3-arm/lib/python3.9/site-packages/torchvision/io/image.py:13: UserWarning: Failed to load image Python extension: 'dlopen(/Users/tony/miniconda3-arm/lib/python3.9/site-packages/torchvision/image.so, 0x0006): Symbol not found: __ZN3c106detail19maybe_wrap_dim_slowIxEET_S2_S2_b\n",
      "  Referenced from: <2D1B8D5C-7891-3680-9CF9-F771AE880676> /Users/tony/miniconda3-arm/lib/python3.9/site-packages/torchvision/image.so\n",
      "  Expected in:     <2653C6C5-E2E5-34B9-8A0E-12388E1D5961> /Users/tony/miniconda3-arm/lib/python3.9/site-packages/torch/lib/libc10.dylib'If you don't plan on using image functionality from `torchvision.io`, you can ignore this warning. Otherwise, there might be something wrong with your environment. Did you have `libjpeg` or `libpng` installed before building `torchvision` from source?\n",
      "  warn(\n",
      "/Users/tony/miniconda3-arm/lib/python3.9/site-packages/torchvision/io/image.py:13: UserWarning: Failed to load image Python extension: 'dlopen(/Users/tony/miniconda3-arm/lib/python3.9/site-packages/torchvision/image.so, 0x0006): Symbol not found: __ZN3c106detail19maybe_wrap_dim_slowIxEET_S2_S2_b\n",
      "  Referenced from: <2D1B8D5C-7891-3680-9CF9-F771AE880676> /Users/tony/miniconda3-arm/lib/python3.9/site-packages/torchvision/image.so\n",
      "  Expected in:     <2653C6C5-E2E5-34B9-8A0E-12388E1D5961> /Users/tony/miniconda3-arm/lib/python3.9/site-packages/torch/lib/libc10.dylib'If you don't plan on using image functionality from `torchvision.io`, you can ignore this warning. Otherwise, there might be something wrong with your environment. Did you have `libjpeg` or `libpng` installed before building `torchvision` from source?\n",
      "  warn(\n",
      "/Users/tony/miniconda3-arm/lib/python3.9/site-packages/torchvision/io/image.py:13: UserWarning: Failed to load image Python extension: 'dlopen(/Users/tony/miniconda3-arm/lib/python3.9/site-packages/torchvision/image.so, 0x0006): Symbol not found: __ZN3c106detail19maybe_wrap_dim_slowIxEET_S2_S2_b\n",
      "  Referenced from: <2D1B8D5C-7891-3680-9CF9-F771AE880676> /Users/tony/miniconda3-arm/lib/python3.9/site-packages/torchvision/image.so\n",
      "  Expected in:     <2653C6C5-E2E5-34B9-8A0E-12388E1D5961> /Users/tony/miniconda3-arm/lib/python3.9/site-packages/torch/lib/libc10.dylib'If you don't plan on using image functionality from `torchvision.io`, you can ignore this warning. Otherwise, there might be something wrong with your environment. Did you have `libjpeg` or `libpng` installed before building `torchvision` from source?\n",
      "  warn(\n",
      "/Users/tony/miniconda3-arm/lib/python3.9/site-packages/torchvision/io/image.py:13: UserWarning: Failed to load image Python extension: 'dlopen(/Users/tony/miniconda3-arm/lib/python3.9/site-packages/torchvision/image.so, 0x0006): Symbol not found: __ZN3c106detail19maybe_wrap_dim_slowIxEET_S2_S2_b\n",
      "  Referenced from: <2D1B8D5C-7891-3680-9CF9-F771AE880676> /Users/tony/miniconda3-arm/lib/python3.9/site-packages/torchvision/image.so\n",
      "  Expected in:     <2653C6C5-E2E5-34B9-8A0E-12388E1D5961> /Users/tony/miniconda3-arm/lib/python3.9/site-packages/torch/lib/libc10.dylib'If you don't plan on using image functionality from `torchvision.io`, you can ignore this warning. Otherwise, there might be something wrong with your environment. Did you have `libjpeg` or `libpng` installed before building `torchvision` from source?\n",
      "  warn(\n"
     ]
    },
    {
     "name": "stdout",
     "output_type": "stream",
     "text": [
      "torch.Size([128, 3, 32, 32]) torch.Size([128])\n",
      "torch.Size([128, 3, 32, 32]) torch.Size([128])\n",
      "torch.Size([128, 3, 32, 32]) torch.Size([128])\n"
     ]
    }
   ],
   "source": [
    "for i, (x, y) in enumerate(dl):\n",
    "    print(x.shape, y.shape)\n",
    "    if i == 2:\n",
    "        break"
   ]
  },
  {
   "cell_type": "code",
   "execution_count": null,
   "metadata": {},
   "outputs": [],
   "source": []
  }
 ],
 "metadata": {
  "kernelspec": {
   "display_name": "base",
   "language": "python",
   "name": "python3"
  },
  "language_info": {
   "codemirror_mode": {
    "name": "ipython",
    "version": 3
   },
   "file_extension": ".py",
   "mimetype": "text/x-python",
   "name": "python",
   "nbconvert_exporter": "python",
   "pygments_lexer": "ipython3",
   "version": "3.9.16"
  }
 },
 "nbformat": 4,
 "nbformat_minor": 2
}
