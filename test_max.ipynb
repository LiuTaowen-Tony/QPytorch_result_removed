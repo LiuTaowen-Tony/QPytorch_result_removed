{
 "cells": [
  {
   "cell_type": "code",
   "execution_count": 6,
   "metadata": {},
   "outputs": [
    {
     "data": {
      "text/plain": [
       "tensor([-7.7500, -7.5000, -7.2500, -7.0000, -6.7500, -6.5000, -6.2500, -6.0000,\n",
       "        -5.7500, -5.5000, -5.2500, -5.0000, -4.7500, -4.5000, -4.2500, -4.0000,\n",
       "        -3.8750, -3.7500, -3.6250, -3.5000, -3.3750, -3.2500, -3.1250, -3.0000,\n",
       "        -2.8750, -2.7500, -2.6250, -2.5000, -2.3750, -2.2500, -2.1250, -2.0000,\n",
       "        -1.9375, -1.8750, -1.8125, -1.7500, -1.6875, -1.6250, -1.5625, -1.5000,\n",
       "        -1.4375, -1.3750, -1.3125, -1.2500, -1.1875, -1.1250, -1.0625, -1.0000,\n",
       "        -0.9375, -0.8750, -0.8125, -0.7500, -0.6875, -0.6250, -0.5625, -0.5000,\n",
       "        -0.4375, -0.3750, -0.3125, -0.2500, -0.1875, -0.1250, -0.0625,  0.0000,\n",
       "         0.0625,  0.1250,  0.1875,  0.2500,  0.3125,  0.3750,  0.4375,  0.5000,\n",
       "         0.5625,  0.6250,  0.6875,  0.7500,  0.8125,  0.8750,  0.9375,  1.0000,\n",
       "         1.0625,  1.1250,  1.1875,  1.2500,  1.3125,  1.3750,  1.4375,  1.5000,\n",
       "         1.5625,  1.6250,  1.6875,  1.7500,  1.8125,  1.8750,  1.9375,  2.0000,\n",
       "         2.1250,  2.2500,  2.3750,  2.5000,  2.6250,  2.7500,  2.8750,  3.0000,\n",
       "         3.1250,  3.2500,  3.3750,  3.5000,  3.6250,  3.7500,  3.8750,  4.0000,\n",
       "         4.2500,  4.5000,  4.7500,  5.0000,  5.2500,  5.5000,  5.7500,  6.0000,\n",
       "         6.2500,  6.5000,  6.7500,  7.0000,  7.2500,  7.5000,  7.7500])"
      ]
     },
     "execution_count": 6,
     "metadata": {},
     "output_type": "execute_result"
    }
   ],
   "source": [
    "from qtorch import FloatingPoint\n",
    "from qtorch.quant import Quantizer, quantizer\n",
    "import torch\n",
    "import numpy as np\n",
    "\n",
    "fp = FloatingPoint(2, 4)\n",
    "\n",
    "q = quantizer(forward_number=fp, forward_rounding=\"nearest\")\n",
    "\n",
    "x = np.linspace(-100, 100, 100000)\n",
    "x = torch.tensor(x, dtype=torch.float32)\n",
    "\n",
    "torch.unique(q(x))"
   ]
  },
  {
   "cell_type": "code",
   "execution_count": null,
   "metadata": {},
   "outputs": [],
   "source": []
  }
 ],
 "metadata": {
  "kernelspec": {
   "display_name": ".venv",
   "language": "python",
   "name": "python3"
  },
  "language_info": {
   "codemirror_mode": {
    "name": "ipython",
    "version": 3
   },
   "file_extension": ".py",
   "mimetype": "text/x-python",
   "name": "python",
   "nbconvert_exporter": "python",
   "pygments_lexer": "ipython3",
   "version": "3.9.14"
  }
 },
 "nbformat": 4,
 "nbformat_minor": 2
}
